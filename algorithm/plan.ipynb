{
 "cells": [
  {
   "cell_type": "markdown",
   "metadata": {},
   "source": [
    "1. 백준 정답률 높은 문제 풀기.(정답률 낮은 문제는 꼼수)  \n",
    "2. 문제 풀고 구글에서 다른 풀이 최소 3개는 보기  \n",
    "3. 문제 반복해서 풀기(1일, 2일, 4일, 7일, 14일, 28일)  \n",
    "-> 이를 통해, 새로운 문제를 전에 풀었던 문제와 응용시키기"
   ]
  }
 ],
 "metadata": {
  "language_info": {
   "name": "python"
  }
 },
 "nbformat": 4,
 "nbformat_minor": 2
}

{
 "cells": [
  {
   "cell_type": "markdown",
   "metadata": {},
   "source": [
    "# 리스트 컴프리헨션(리스트 내포)\n",
    "- 리스트를 초기화하는 방법 중 하나로 리스트 안에 조건문이나 반복문을 사용하여 좀 더 편리하고 직관적인 프로그램을 만들 수 있음  \n",
    "`표현식 for 항목 in 반복가능객체 if 조건`"
   ]
  },
  {
   "cell_type": "code",
   "execution_count": 2,
   "metadata": {},
   "outputs": [
    {
     "name": "stdout",
     "output_type": "stream",
     "text": [
      "[0, 1, 2, 3, 4, 5, 6, 7, 8, 9]\n"
     ]
    }
   ],
   "source": [
    "arr1 = [i for i in range(10)] #0부터 9까지의 수를 포함하는 리스트\n",
    "print(arr1)"
   ]
  },
  {
   "cell_type": "code",
   "execution_count": 3,
   "metadata": {},
   "outputs": [
    {
     "name": "stdout",
     "output_type": "stream",
     "text": [
      "[1, 3, 5, 7, 9, 11, 13, 15, 17, 19]\n"
     ]
    }
   ],
   "source": [
    "arr2 = [i for i in range(20) if i % 2 == 1] #0부터 19까지의 수 중에서 홀수만 포함하는 리스트\n",
    "print(arr2)"
   ]
  },
  {
   "cell_type": "code",
   "execution_count": 4,
   "metadata": {},
   "outputs": [
    {
     "name": "stdout",
     "output_type": "stream",
     "text": [
      "[3, 6, 9, 12]\n"
     ]
    }
   ],
   "source": [
    "a = [1, 2, 3, 4]\n",
    "result = [num * 3 for num in a]\n",
    "print(result)"
   ]
  },
  {
   "cell_type": "markdown",
   "metadata": {},
   "source": [
    "- 리스트 컴프리헨션은 2차원 리스트를 초기화 할 때 효과적으로 사용할 수 있음 특히 N * M 크기의 2차원 리스트를 한번에 초기화 할때 매우 유용\n",
    "### 좋은예시\n",
    "\n",
    "  n번 반복할때마다 길이가 m인 리스트를 매번 초기화 해서 주소값이 서로 다른 m길이의 리스트를 전체 리스트에 넣음"
   ]
  },
  {
   "cell_type": "code",
   "execution_count": null,
   "metadata": {},
   "outputs": [],
   "source": [
    "n = 4\n",
    "m = 3\n",
    "array = [[0] * m for _ in range(n)]\n",
    "print(array)"
   ]
  },
  {
   "cell_type": "markdown",
   "metadata": {},
   "source": [
    "### 나쁜예시 (전체 리스트의 각 리스트가 모두 같은 객체로 인식됨)  \n",
    "  [[0] * m] 에서 이미 주소값을 가지게 되는데, 이걸 초기화 하지 않고 *n을 하면 단순히 참조값을 복사하는 거라서 각 리스트가 같은 주소를 참조하는 같은 객체로 인식됨"
   ]
  },
  {
   "cell_type": "code",
   "execution_count": 11,
   "metadata": {},
   "outputs": [
    {
     "name": "stdout",
     "output_type": "stream",
     "text": [
      "[[0, 0, 0], [0, 0, 0], [0, 0, 0], [0, 0, 0]]\n",
      "[[0, 5, 0], [0, 5, 0], [0, 5, 0], [0, 5, 0]]\n"
     ]
    }
   ],
   "source": [
    "n = 4\n",
    "m = 3\n",
    "array = [[0] * m] * n\n",
    "print(array)\n",
    "\n",
    "array[1][1] = 5\n",
    "print(array)"
   ]
  },
  {
   "cell_type": "markdown",
   "metadata": {},
   "source": [
    "### 언더바는 언제사용?\n",
    "반복문에서 변수를 사용안하고 단순한 반복을 사용하고자 할 때 변수 대신 언더바_ 사용"
   ]
  },
  {
   "cell_type": "code",
   "execution_count": 10,
   "metadata": {},
   "outputs": [
    {
     "name": "stdout",
     "output_type": "stream",
     "text": [
      "1\n",
      "2\n",
      "3\n",
      "4\n",
      "5\n",
      "6\n",
      "7\n",
      "8\n",
      "9\n"
     ]
    }
   ],
   "source": [
    "# 코드 1 : 1부터 9까지 더하기\n",
    "summary = 0\n",
    "for i in range(1, 10):\n",
    "    summary += i\n",
    "    print(i)\n",
    "# 매번 i의 값을 변수에 담아야 할때는 변수 i를 사용"
   ]
  },
  {
   "cell_type": "code",
   "execution_count": 9,
   "metadata": {},
   "outputs": [
    {
     "name": "stdout",
     "output_type": "stream",
     "text": [
      "Hello world\n",
      "Hello world\n",
      "Hello world\n",
      "Hello world\n",
      "Hello world\n"
     ]
    }
   ],
   "source": [
    "# 코드 2 : \"Hello world\" 5번 출력하기\n",
    "for _ in range(5):\n",
    "    print(\"Hello world\")\n",
    "# 변수 필요 없이 단순한 반복을 사용하고자 할 때 변수 대신 언더바_ 사용"
   ]
  }
 ],
 "metadata": {
  "kernelspec": {
   "display_name": "Python 3",
   "language": "python",
   "name": "python3"
  },
  "language_info": {
   "codemirror_mode": {
    "name": "ipython",
    "version": 3
   },
   "file_extension": ".py",
   "mimetype": "text/x-python",
   "name": "python",
   "nbconvert_exporter": "python",
   "pygments_lexer": "ipython3",
   "version": "3.11.2"
  }
 },
 "nbformat": 4,
 "nbformat_minor": 2
}

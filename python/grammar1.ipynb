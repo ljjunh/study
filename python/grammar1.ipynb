{
 "cells": [
  {
   "cell_type": "markdown",
   "metadata": {},
   "source": [
    "#### 산술 연산자  \n",
    "| 기호 | 연산자 |  \n",
    "| :-: | --- |\n",
    "| + | 덧셈 |  \n",
    "| - | 뺄셈, 음수부호 |  \n",
    "| * | 곱셈 |  \n",
    "| / | 나눗셈 |  \n",
    "| // | 정수 나눈셈(몫) |  \n",
    "| % | 나머지 |  \n",
    "| ** | 지수(거듭제곱) |  \n",
    "#### 연산자 우선순위\n",
    "| 우선순위 | 연산자 | 연산 |  \n",
    "| :-: | --- | --- |  \n",
    "| 높음 | ** | 지수 |  \n",
    "| | - | 음수 부호 |  \n",
    "| | *, /, //, % | 곱셈, 나눗셈, 정수 나눗셈, 나머지 |  \n",
    "| 낮음 | +, - | 덧셈, 뺄셈 |  "
   ]
  },
  {
   "cell_type": "code",
   "execution_count": 37,
   "metadata": {},
   "outputs": [
    {
     "name": "stdout",
     "output_type": "stream",
     "text": [
      "-9\n",
      "-9\n",
      "9\n",
      "-9\n"
     ]
    }
   ],
   "source": [
    "print(-3 ** 2) # -9 : 지수가 먼저여서 3^2 하고 -가 붙음\n",
    "print((-3) ** 2) # 9 : 현실처럼-3의 제곱을 구하려면 괄호 사용\n",
    "print(-(3 ** 2)) # -9\n",
    "print(-(3) ** 2) # -9\n",
    "\n"
   ]
  },
  {
   "cell_type": "markdown",
   "metadata": {},
   "source": [
    "#### 복합연산자\n",
    "| 기호 | 의미 |  \n",
    "| :-: | :-: |\n",
    "| += | a = a + b |  \n",
    "| -= | a = a - b |  \n",
    "| *= | a = a * b |  \n",
    "| /= | a = a / b |  \n",
    "| //= | a = a // b |  \n",
    "| %= | a = a % b |  \n",
    "| **= | a = a ** b |  \n",
    "#### 비교 연산자  \n",
    "| 기호 | 의미 |  \n",
    "| :-: | :-: |\n",
    "| < | 미만 |  \n",
    "| <= | 이하 |  \n",
    "| > | 초과 |  \n",
    "| >= | 이상 |  \n",
    "| == | 같음 |  \n",
    "| != | 같지않음 |  \n",
    "| is | 같음 |  \n",
    "|  is not | 같지 않음 |  \n",
    "#### is 비교 연산자 \n",
    "- 메모리 내에서 같은 객체를 참조하는지 확인  \n",
    "- ==는 값이 같은지 확인, is는 메모리주소가 같은지 확인"
   ]
  },
  {
   "cell_type": "code",
   "execution_count": 1,
   "metadata": {},
   "outputs": [
    {
     "name": "stdout",
     "output_type": "stream",
     "text": [
      "True\n",
      "False\n"
     ]
    }
   ],
   "source": [
    "a = 3\n",
    "b = 3.0\n",
    "print(a == b)\n",
    "print(a is b)\n",
    "# ==는 값을 비교하지만, is는 레퍼런스를 비교하기 때문\n",
    "# is는 되도록 None, True, False를 비교할 때 사용"
   ]
  },
  {
   "cell_type": "markdown",
   "metadata": {},
   "source": [
    "#### 논리 연산자  \n",
    "\n",
    "| 기호 | 내용 |  \n",
    "| :-: | :-: |  \n",
    "| and | 모두 True일 때만 True |  \n",
    "| or | 둘중 하나라도 True면 True |  \n",
    "| not | True면 False, False면 True |  "
   ]
  },
  {
   "cell_type": "code",
   "execution_count": 2,
   "metadata": {},
   "outputs": [
    {
     "name": "stdout",
     "output_type": "stream",
     "text": [
      "True\n",
      "True\n",
      "False\n",
      "False\n"
     ]
    }
   ],
   "source": [
    "print(True and True) # True\n",
    "print(True or False) # True\n",
    "print(not True) # False\n",
    "print(not 1) # False"
   ]
  },
  {
   "cell_type": "markdown",
   "metadata": {},
   "source": [
    "#### 단축평가  \n",
    "- 논리연산에서 두번째 피연산자를 평가하지 않고 결과를 결정하는 동작  \n",
    "- 코드 실행을 최적화하고, 불필요한 연산을 안하려고 함\n",
    "- and \n",
    "    - 앞이 False면, 뒤는 무시하고 전체 표현식은 False로 결정  \n",
    "    - 앞이 True면, 뒤가 평가되고 그 결과가 전체 표현식으로 결정  \n",
    "- or  \n",
    "    - 앞이 True면, 뒤는 무시하고 전체 표현식은 True로 결정  \n",
    "    - 앞이 False면, 뒤가 평과되고 그 결과가 전체 표현식으로 결정  "
   ]
  },
  {
   "cell_type": "code",
   "execution_count": 9,
   "metadata": {},
   "outputs": [
    {
     "name": "stdout",
     "output_type": "stream",
     "text": [
      "b\n",
      "a\n",
      "2\n",
      "0\n",
      "0\n",
      "2\n",
      "1\n",
      "3\n"
     ]
    }
   ],
   "source": [
    "# 단축평가 예시\n",
    "print('a' and 'b')\n",
    "print('b' and 'a')\n",
    "print(1 and 2)\n",
    "print(1 and 0)\n",
    "print(0 and 1) # 앞이 이미 False여서 단축평가\n",
    "print(0 and 0) # 출력은 앞의 0\n",
    "print(2 or 1) # 앞이 이미 True여서 단축평가\n",
    "print(1 or 2)\n",
    "print(0 or 3) # 앞이 False여서 뒤까지 평가\n",
    "print(0 or 0) # 출력은 뒤의 0"
   ]
  },
  {
   "cell_type": "markdown",
   "metadata": {},
   "source": [
    "#### 멤버십 연산자  \n",
    "- 특정 값이 시퀀스나 다른 컬렉션에 속하는지 여부 확인  \n",
    "- in, not in"
   ]
  },
  {
   "cell_type": "code",
   "execution_count": 13,
   "metadata": {},
   "outputs": [
    {
     "name": "stdout",
     "output_type": "stream",
     "text": [
      "True\n",
      "False\n",
      "False\n",
      "True\n"
     ]
    }
   ],
   "source": [
    "word = \"Python\"\n",
    "print('y' in word) # True\n",
    "print('a' in word) # False\n",
    "print('y' not in word) # False\n",
    "print('a' not in word) # True"
   ]
  },
  {
   "cell_type": "markdown",
   "metadata": {},
   "source": [
    "#### 시퀀스형 연산자\n",
    "- +와 *는 시퀀스 간 연산에서는 산술연산자일때랑 다른 역할을 함  \n",
    "- +는 결합, *는 반복"
   ]
  },
  {
   "cell_type": "code",
   "execution_count": 17,
   "metadata": {},
   "outputs": [
    {
     "name": "stdout",
     "output_type": "stream",
     "text": [
      "Hellopython\n",
      "HelloHelloHello\n",
      "[1, 2, 'a', 'b']\n",
      "[1, 2, 1, 2]\n"
     ]
    }
   ],
   "source": [
    "print(\"Hello\" + \"python\") # 결합\n",
    "print(\"Hello\" * 3) # 반복\n",
    "print([1, 2] + ['a', 'b']) # [1, 2, 'a', 'b']\n",
    "print([1, 2] * 2) # [1, 2, 1, 2]"
   ]
  },
  {
   "cell_type": "markdown",
   "metadata": {},
   "source": [
    "#### 변수 Variable  \n",
    "- 값을 `참조`하는 이름\n",
    "- 메모리의 모든 위치에는 메모리 주소가 존재  \n",
    "- 변수는 그 변소가 참조하는 객체의 메모리 주소를 가짐  \n",
    "- 실제로 변수에 값을 할당하면, 변수가 값을 가지는게 아니라 객체의 메모리 주소를 참조함  \n",
    "#### 객체 Object\n",
    "- 타입을 갖는 메모리 주소 내 값(값이 들어있는 상자)  \n",
    "\n",
    "#### 변수명 규칙\n",
    "- 알파벳, 언더바, 숫자로 구성  \n",
    "- 숫자로 시작x  \n",
    "- 예약어 사용 x  \n",
    "- 대소문자 구분\n"
   ]
  },
  {
   "cell_type": "code",
   "execution_count": 38,
   "metadata": {},
   "outputs": [
    {
     "name": "stdout",
     "output_type": "stream",
     "text": [
      "30\n",
      "30\n"
     ]
    }
   ],
   "source": [
    "num1 = 10\n",
    "num2 = 3 * num1\n",
    "print(num2)\n",
    "\n",
    "num = 5\n",
    "print(num2) #30\n",
    "# num2에는 num1의 주소가 아닌 \n",
    "# 값 30의 주소가 들어있어서\n",
    "# num1의 값이 바뀐다해서\n",
    "# num2의 값이 바뀌지는 않음 "
   ]
  },
  {
   "cell_type": "markdown",
   "metadata": {},
   "source": [
    "#### Style Guide  \n",
    "- 코드의 일관성과 가독성을 향상시키기 위한 규칙과 권장 사항들\n",
    "### Python Style Guide  \n",
    "- 변수명은 직관적인 이름을 가져야함  \n",
    "- 공백 4칸을 사용해서 들여쓰기  \n",
    "- 한줄의 길이는 79자로 제한, 더 길면 줄바꿈  \n",
    "- 문자와 언더바를 사용해서 함수, 변수, 속성의 이름 작성  \n",
    "- 함수 정의나 클래스 정의 등의 블록 사이에는 빈 줄 추가  \n"
   ]
  }
 ],
 "metadata": {
  "kernelspec": {
   "display_name": "Python 3",
   "language": "python",
   "name": "python3"
  },
  "language_info": {
   "codemirror_mode": {
    "name": "ipython",
    "version": 3
   },
   "file_extension": ".py",
   "mimetype": "text/x-python",
   "name": "python",
   "nbconvert_exporter": "python",
   "pygments_lexer": "ipython3",
   "version": "3.11.2"
  }
 },
 "nbformat": 4,
 "nbformat_minor": 2
}

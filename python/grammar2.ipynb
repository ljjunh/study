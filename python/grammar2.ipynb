{
 "cells": [
  {
   "cell_type": "markdown",
   "metadata": {},
   "source": [
    "#### Data Types\n",
    "- 값의 종류와 그 값에 적용 가능한 연산과 동작을 결정하는 속성  \n",
    "- Numeric Types\n",
    "    - int(정수), float(실수), complex(복소수)\n",
    "- Sequence Types\n",
    "    - list, tuple, range\n",
    "- Text Sequence Type\n",
    "    - str\n",
    "- Non-sequence Types\n",
    "    - set, dict  \n",
    "- 기타\n",
    "    - None, Boolean, Functions  \n",
    "#### int\n",
    "- 정수를 표현하는 자료형\n",
    "#### 진수 표현  \n",
    "- 2진수(binary) : 0b  \n",
    "- 8진수(octal) : 0o  \n",
    "- 16진수(hexadecimal) : 0x  "
   ]
  },
  {
   "cell_type": "code",
   "execution_count": 39,
   "metadata": {},
   "outputs": [
    {
     "name": "stdout",
     "output_type": "stream",
     "text": [
      "2\n",
      "8\n",
      "16\n"
     ]
    }
   ],
   "source": [
    "print(0b10) # 2\n",
    "print(0o10) # 8\n",
    "print(0x10) # 16"
   ]
  },
  {
   "cell_type": "markdown",
   "metadata": {},
   "source": [
    "#### float\n",
    "- float은 실수에 대한 `근삿값`\n",
    "- 0.1은 0.1이 아니라 0.1에 가장 가까운 수  \n"
   ]
  },
  {
   "cell_type": "code",
   "execution_count": 40,
   "metadata": {},
   "outputs": [
    {
     "name": "stdout",
     "output_type": "stream",
     "text": [
      "False\n"
     ]
    }
   ],
   "source": [
    "num = 0.1 + 0.2\n",
    "if num == 0.3:\n",
    "    print(True)\n",
    "else:\n",
    "    print(False)"
   ]
  },
  {
   "cell_type": "markdown",
   "metadata": {},
   "source": [
    "#### 지수 표현 방식\n",
    "- e나 E를 사용"
   ]
  },
  {
   "cell_type": "code",
   "execution_count": 41,
   "metadata": {},
   "outputs": [
    {
     "name": "stdout",
     "output_type": "stream",
     "text": [
      "31400.0\n",
      "<class 'float'>\n"
     ]
    }
   ],
   "source": [
    "num = 314e2\n",
    "print(num)\n",
    "print(type(num))"
   ]
  },
  {
   "cell_type": "markdown",
   "metadata": {},
   "source": [
    "#### Sequence Types  \n",
    "- 여러개의 값들을 순서대로 나열해서 저장하는 자료형  \n",
    "- str, list, tuple, range\n",
    "#### 특징  \n",
    "1. 순서(Sequence)  \n",
    "- 값들이 순서대로 저장(정렬x)  \n",
    "2. 인덱싱(Indexing)  \n",
    "- 각 값이 인덱스를 가지고 있고, 인덱스를 사용해서 접근가능  \n",
    "3. 슬라이싱(Slicing)  \n",
    "- 인덱스 범위를 조절해서 부분적인 값을 추출할 수 있음  \n",
    "4. 길이(Length)  \n",
    "- len()을 사용해서 값의 길이(개수)를 구할 수 있음  \n",
    "5. 반복(Iteration)  \n",
    "- 반복문을 사용해서 저장된 값들을 반복적으로 처리 가능  \n",
    "#### list  \n",
    "- 여러 개의 값을 순서대로 저장하는 `변경 가능한` 시퀀스 자료형  \n",
    "- 0개 이상의 객체를 포함(빈 리스트도 가능)  \n",
    "- 대괄호[]로 표기  \n",
    "- 데이터로 어떤 자료형이든 저장가능\n"
   ]
  },
  {
   "cell_type": "code",
   "execution_count": 44,
   "metadata": {},
   "outputs": [
    {
     "name": "stdout",
     "output_type": "stream",
     "text": [
      "[]\n",
      "[2, 'b', (1, 2), 'hi', {'a': 25}, [1, 5], range(1, 11)]\n",
      "1 2 3 4 5 6 7 8 9 10\n",
      "[(1, 2), 'hi']\n",
      "7\n",
      "[50, 2, 3]\n"
     ]
    }
   ],
   "source": [
    "arr_1 = []  # 빈 리스트\n",
    "print(arr_1)\n",
    "\n",
    "arr_2 = [2, 'b', (1, 2), \"hi\", {\"a\" : 25}, [1, 5], range(1, 11)]\n",
    "print(arr_2) # 어떤 자료형이든 저장 가능\n",
    "\n",
    "# 인덱싱 \n",
    "temp = arr_2[-1] # range도 리스트에 저장 가능 \n",
    "print(*temp) # 언패킹해서 출력하면 range값 다 나옴\n",
    "\n",
    "# 슬라이싱\n",
    "print(arr_2[2:4])\n",
    "\n",
    "# 길이\n",
    "print(len(arr_2))\n",
    "\n",
    "# 가변 가능\n",
    "arr3 = [1, 2, 3]\n",
    "arr3[0] = 50\n",
    "print(arr3)"
   ]
  },
  {
   "cell_type": "markdown",
   "metadata": {},
   "source": [
    "#### tuple  \n",
    "- 여러개의 값을 순서대로 저장하는 `변경 불가능한` 시퀀스 자료형\n",
    "- 0개 이상의 객체를 포함(빈 튜플 가능)  \n",
    "- 소괄호()로 표기  \n",
    "- 어떤 자료형이든 저장 가능  \n",
    "- 요소가 하나일때는 (객체, ) 처럼 쉼표를 넣어야함\n",
    "    - 쉼표없이 tuple1 = (1)을 선언하면 int 1이 나오고  \n",
    "    - 쉼표없이 tuple2 = (\"Hi\")를 선언하면 str Hi가 나옴  \n",
    "- 튜플은 개발자가 직접 사용하기 보단 파이썬 내부동작에서 주로 사용됨  "
   ]
  },
  {
   "cell_type": "code",
   "execution_count": 50,
   "metadata": {},
   "outputs": [
    {
     "name": "stdout",
     "output_type": "stream",
     "text": [
      "()\n",
      "1\n",
      "<class 'int'>\n",
      "(1, (2, 3), [4, 5], 'hi', 'A', {1: 'Python'}, range(1, 11))\n",
      "<class 'tuple'>\n"
     ]
    }
   ],
   "source": [
    "tuple1 = ()  \n",
    "tuple2 = (1)\n",
    "tuple3 = (1, (2, 3), [4, 5], \"hi\", 'A', {1 : \"Python\"}, range(1, 11))\n",
    "print(tuple1)\n",
    "print(tuple2)\n",
    "print(type(tuple2))\n",
    "print(tuple3)\n",
    "print(type(tuple3))"
   ]
  },
  {
   "cell_type": "markdown",
   "metadata": {},
   "source": [
    "#### range  \n",
    "- 연속된 정수 시퀀스를 생성하는 `변경 불가능`한 자료형  \n",
    "- range(n) : 0부터 n-1까지의 숫자의 시퀀스  \n",
    "- range(n, m) : n부터 n-1까지의 숫자 시퀀스\n",
    "- 그냥 print(range(11))을 출력하면 range(0, 11)이 나옴 리스트로 형변환 하거나 언패킹해서 출력하면 값이 나옴\n",
    "- 주로 반복문과 함께 사용"
   ]
  },
  {
   "cell_type": "code",
   "execution_count": 55,
   "metadata": {},
   "outputs": [
    {
     "name": "stdout",
     "output_type": "stream",
     "text": [
      "range(0, 11)\n",
      "[0, 1, 2, 3, 4, 5, 6, 7, 8, 9, 10]\n",
      "0 1 2 3 4 5 6 7 8 9 10\n"
     ]
    }
   ],
   "source": [
    "range_1 = range(11)\n",
    "print(range_1)\n",
    "print(list(range_1)) # 리스트로 형 변환\n",
    "print(*range_1) # 언패킹"
   ]
  },
  {
   "cell_type": "code",
   "execution_count": 52,
   "metadata": {},
   "outputs": [],
   "source": [
    "# 튜플은 변경불가\n",
    "tuple1 = (1, 'a', 3, 4, 5)\n",
    "#tuple1[1] = 2\n",
    "# TypeError: 'tuple' object does not support item assignment\n",
    " "
   ]
  },
  {
   "cell_type": "markdown",
   "metadata": {},
   "source": [
    "#### str 문자열  \n",
    "- 문자들의 순서가 있는 변경 불가능한 시퀀스 자료형  \n",
    "#### Escape sequence  \n",
    "- 역슬래시뒤에 특정 문자가 와서 특수한 기능을 하는 문자조합  \n",
    "- 일반적인 문법 규칙을 잠시 탈출  \n",
    "\n",
    "| 예약문자 | 의미 |  \n",
    "| :-: | :-: |\n",
    "| \\n | 줄바꿈 |  \n",
    "| \\t | 탭 |  \n",
    "| \\\\ | 백슬래시 |  \n",
    "| \\' | 작은 따옴표 |  \n",
    "| \\\" | 큰 따옴표 |  "
   ]
  },
  {
   "cell_type": "code",
   "execution_count": 27,
   "metadata": {},
   "outputs": [
    {
     "name": "stdout",
     "output_type": "stream",
     "text": [
      "철수야 \"안녕\" \n"
     ]
    }
   ],
   "source": [
    "# 탈출문자 예시\n",
    "#print(\"친구들\"안녕\"\") 에러\n",
    "print(\"친구들 \\\"안녕\\\" \")"
   ]
  },
  {
   "cell_type": "markdown",
   "metadata": {},
   "source": [
    "### f-string  \n",
    "- 문자열에 f나 F를 붙이고 표현식을{}안에 작성해서 문자열에 표현식의 값을 삽입 가능"
   ]
  },
  {
   "cell_type": "code",
   "execution_count": 29,
   "metadata": {},
   "outputs": [
    {
     "name": "stdout",
     "output_type": "stream",
     "text": [
      "내이름은 준희고 28살이야\n"
     ]
    }
   ],
   "source": [
    "name = \"준희\"\n",
    "age = 28\n",
    "print(f\"내이름은 {name}고 {age}살이야\")"
   ]
  },
  {
   "cell_type": "markdown",
   "metadata": {},
   "source": [
    "#### Non-sequence Types  \n",
    "- dict, set  \n",
    "#### dict  \n",
    "- `key - value 쌍`으로 이루어진 `순서`와 `중복이 없는` `변경 가능`한 자료형  \n",
    "- 중괄호{}로 표기  \n",
    "- key는 변경 불가능한 자료형만 사용 가능(str, int, float, tuple, range 등)  \n",
    "- value는 모든 자료형 사용 가능 \n",
    "- 인덱싱이 불가능해서 key를 통해 value에 접근 "
   ]
  },
  {
   "cell_type": "code",
   "execution_count": 63,
   "metadata": {},
   "outputs": [
    {
     "name": "stdout",
     "output_type": "stream",
     "text": [
      "변경 전 :  {'A': 1, 'B': 2, 'C': 3}\n",
      "변경 후 :  {'A': 10, 'B': 2, 'C': 3}\n",
      "{'A': 2}\n"
     ]
    }
   ],
   "source": [
    "dict_1 = {}\n",
    "dict_2 = {'A' : 1, \"list\" : [1, 2, 3]}\n",
    "# dict_3 = {[1,2] : 1} # key에 변경 가능한 자료형 불가능\n",
    "# print(dict_2[0]) # 순서가 없어서 인덱싱, 슬라이싱 불가능 \n",
    "dict_4 = {'A' : 1, 'B' : 2, 'C' : 3}\n",
    "print(\"변경 전 : \", dict_4)\n",
    "dict_4['A'] = 10\n",
    "print(\"변경 후 : \", dict_4)\n",
    "\n",
    "dict_5 = {'A' : 1, 'A' : 2}\n",
    "print(dict_5) # key 중복이 안돼서 마지막에 넣은 값으로 덮어써짐"
   ]
  },
  {
   "cell_type": "markdown",
   "metadata": {},
   "source": [
    "#### set  \n",
    "- `순서`와 `중복이 없는` `변경 가능`한 자료형  \n",
    "- 수학에서의 집합과 동일한 연산 처리 가능  \n",
    "- 중괄호{}로 표기  \n",
    "    세트 : {요소1, 요소2}  \n",
    "    딕셔너리 : {key : value}  \n",
    "- 빈 세트는 set()로 만듬( {} <- 빈 딕셔너리)  \n",
    "\n"
   ]
  },
  {
   "cell_type": "code",
   "execution_count": 69,
   "metadata": {},
   "outputs": [
    {
     "name": "stdout",
     "output_type": "stream",
     "text": [
      "<class 'dict'>\n",
      "<class 'set'>\n",
      "{1, 2, 3}\n"
     ]
    }
   ],
   "source": [
    "set_1 = {} # 빈 딕셔너리\n",
    "set_2 = set() # 빈 세트\n",
    "set_3 = {1, 1, 2, 2, 3, 3} # 중복 불가\n",
    "#set_3.sort() # 순서가 없어서 정렬도 불가능\n",
    "print(type(set_1))\n",
    "print(type(set_2))\n",
    "print(set_3)"
   ]
  },
  {
   "cell_type": "code",
   "execution_count": 74,
   "metadata": {},
   "outputs": [
    {
     "name": "stdout",
     "output_type": "stream",
     "text": [
      "{1, 2, 3, 4, 5}\n",
      "{1, 2, 3, 4, 5}\n",
      "{3}\n",
      "{3}\n",
      "{1, 2}\n",
      "{1, 2}\n"
     ]
    }
   ],
   "source": [
    "set_1 = {1, 2, 3}\n",
    "set_2 = {3, 4, 5}\n",
    "# 합집합\n",
    "print(set_1 | set_2) # {1, 2, 3, 4, 5}\n",
    "print(set_1.union(set_2))\n",
    "# 교집합  \n",
    "print(set_1 & set_2) # {3}\n",
    "print(set_1.intersection(set_2))\n",
    "# 차집합\n",
    "print(set_1 - set_2) # {1, 2}\n",
    "print(set_1.difference(set_2))"
   ]
  },
  {
   "cell_type": "markdown",
   "metadata": {},
   "source": [
    "#### Other Types \n",
    "- None, Boolean\n",
    "#### None  \n",
    "- `'값이 없음'`을 표현하는 자료형  \n",
    "#### Boolean  \n",
    "- True와 False를 표현하는 자료형  "
   ]
  },
  {
   "cell_type": "markdown",
   "metadata": {},
   "source": [
    "#### Collection  \n",
    "- 여러 개의 항목 또는 요소를 담는 자료 구조를 통틀어서 Collection이라 부름  \n",
    "- str, list, tuple, set, dict  \n",
    "### 정리  \n",
    "\n",
    "| 컬렉션 | 변경 가능 여부 | 순서 여부(sequence) |  \n",
    "| --- | :-: |  :-: |  \n",
    "| str | X | O |  \n",
    "| list | O | O |  \n",
    "| tuple | X | O |  \n",
    "| set | O | X |  \n",
    "| dict | O | X |  \n"
   ]
  },
  {
   "cell_type": "markdown",
   "metadata": {},
   "source": [
    "#### 암시적 형변환  \n",
    "- 파이썬이 자동으로 형변환  \n",
    "- Boolean과 Numeric Type에서만 가능  "
   ]
  },
  {
   "cell_type": "code",
   "execution_count": 75,
   "metadata": {},
   "outputs": [
    {
     "name": "stdout",
     "output_type": "stream",
     "text": [
      "8.0\n",
      "4\n",
      "3\n",
      "1\n"
     ]
    }
   ],
   "source": [
    "print(3 + 5.0) # 8.0 int + float = float\n",
    "print(True + 3) # 4\n",
    "print(False + 3) # 3\n",
    "print(True + False) #1"
   ]
  },
  {
   "cell_type": "markdown",
   "metadata": {},
   "source": [
    "#### 명시적 형변환  \n",
    "- 개발자가 직접 형변환  \n",
    "- 암시적 형변환이 아닌 모든 경우 \n",
    "- integer -> str : 모두 가능\n",
    "- str -> integer : 형식에 맞는 숫자만 가능  \n",
    "    `ex) int(\"3.5\") 에러, float(\"3.5\")가능`"
   ]
  },
  {
   "cell_type": "code",
   "execution_count": 78,
   "metadata": {},
   "outputs": [
    {
     "name": "stdout",
     "output_type": "stream",
     "text": [
      "4\n",
      "1일\n",
      "3.5\n",
      "3\n",
      "[1, 2, 3]\n"
     ]
    }
   ],
   "source": [
    "print(int('4')) # 4\n",
    "print(str(1) + \"일\") # 1일\n",
    "print(float(\"3.5\")) # 3.5\n",
    "#print(int(\"3.5\")) 에러 3.5는 정수가 아니여서 int로\n",
    "# 형변환 하면 에러뜸\n",
    "print(int(3.5)) # 3\n"
   ]
  },
  {
   "cell_type": "markdown",
   "metadata": {},
   "source": [
    "#### 컬렉션 간 형변환  \n",
    "\n",
    "| | str | list | tuple | range | set | dict | \n",
    "| :-: | :-: | :-: | :-: | :-: | :-: | :-: |  \n",
    "| str | | O | O | X | O | X |  \n",
    "| list | O |  | O | X | O | X |  \n",
    "| tuple | O | O |  | X | O | X |  \n",
    "| range | O | O | O |  | O | X |  \n",
    "| set | O | O | O | X |  | O |  \n",
    "| dict | O | O(key만) | O(key만) | X | O(key만) |  |  "
   ]
  }
 ],
 "metadata": {
  "kernelspec": {
   "display_name": "Python 3",
   "language": "python",
   "name": "python3"
  },
  "language_info": {
   "codemirror_mode": {
    "name": "ipython",
    "version": 3
   },
   "file_extension": ".py",
   "mimetype": "text/x-python",
   "name": "python",
   "nbconvert_exporter": "python",
   "pygments_lexer": "ipython3",
   "version": "3.11.2"
  }
 },
 "nbformat": 4,
 "nbformat_minor": 2
}

{
 "cells": [
  {
   "cell_type": "markdown",
   "metadata": {},
   "source": [
    "#### 함수\n",
    "- 특정 작업을 수행하기 위한 재사용 가능한 코드 묶음  \n",
    "- 똑같이 행동하는 로직을 함수로 정의하면 `코드의 중복을 방지`하고 `재사용성`과 `가독성`, `유지보수성`이 향상됨  \n",
    "- def 함수이름(매개변수):  \n",
    "&ensp;&ensp;수행할 문장1 ...  \n",
    "&ensp;&ensp;return 결괏값(생략가능)    \n",
    "- `return은 함수의 실행을 종료`하고 결과를 호출한 부분으로 반환. return 뒤에 반환할 값을 명시 \n",
    "- 결과값이 없는 함수는 None을 반환   "
   ]
  },
  {
   "cell_type": "code",
   "execution_count": 44,
   "metadata": {},
   "outputs": [
    {
     "name": "stdout",
     "output_type": "stream",
     "text": [
      "1 + 2의 합은 3입니다.\n",
      "None\n"
     ]
    }
   ],
   "source": [
    "def add(a, b):\n",
    "    print(f\"{a} + {b}의 합은 {a + b}입니다.\")\n",
    "c = add(1, 2) # 결과값이 출력된게 아니라 print함수가 실행된거임\n",
    "print(c) # 결과값이 없어서 None을 반환\n"
   ]
  },
  {
   "cell_type": "markdown",
   "metadata": {},
   "source": [
    "#### parameter, argument  \n",
    "- parameter(매개변수) : `함수를 정의할 때` 함수가 받을 값을 나타냄  \n",
    "- argument(인자) : `함수를 호출할 때` 함수에 전달하는 값  "
   ]
  },
  {
   "cell_type": "code",
   "execution_count": 45,
   "metadata": {},
   "outputs": [
    {
     "name": "stdout",
     "output_type": "stream",
     "text": [
      "3\n"
     ]
    }
   ],
   "source": [
    "# 함수 정의\n",
    "def add(a, b): # a, b는 매개변수(parameter)\n",
    "    return a + b\n",
    "\n",
    "#함수 호출\n",
    "c = add(1, 2) # 1, 2는 인자(argument)\n",
    "print(c)"
   ]
  },
  {
   "cell_type": "markdown",
   "metadata": {},
   "source": [
    "#### 위치인자  \n",
    "- 함수 호출 시 인자의 위치에 따라 전달되는 인자  \n",
    "- 위치인자는 함수 호출 시 반드시 값을 전달해야함  "
   ]
  },
  {
   "cell_type": "code",
   "execution_count": 46,
   "metadata": {},
   "outputs": [
    {
     "name": "stdout",
     "output_type": "stream",
     "text": [
      "3\n"
     ]
    }
   ],
   "source": [
    "def add(a, b):\n",
    "    return a + b\n",
    "# print(add(1)) #TypeError: add() missing 1 required positional argument\n",
    "# 인자 2개를 전달해야하는데 하나만 전달해서 에러\n",
    "print(add(1, 2))"
   ]
  },
  {
   "cell_type": "markdown",
   "metadata": {},
   "source": [
    "#### 기본 인자 값  \n",
    "- 함수를 정의할때 매개변수에 기본 값을 할당  \n",
    "- 함수를 호출할때 인자를 전달하지 않으면, 기본값이 매개변수에 할당됨  "
   ]
  },
  {
   "cell_type": "code",
   "execution_count": 47,
   "metadata": {},
   "outputs": [
    {
     "name": "stdout",
     "output_type": "stream",
     "text": [
      "3\n"
     ]
    }
   ],
   "source": [
    "def add(a, b = 2):\n",
    "    return a + b\n",
    "\n",
    "print(add(1)) # 위에서는 인자 하나만 넣었을 때 에러가 났지만,\n",
    "# 여기선 기본인자값을 넣어놔서 인자 하나만 넣고 호출해도 에러가 안뜸"
   ]
  },
  {
   "cell_type": "markdown",
   "metadata": {},
   "source": [
    "#### 키워드 인자  \n",
    "- 함수 호출할때 인자의 이름과 값을 같이 전달  \n",
    "- `호출시 키워드 인자는 위치인자 뒤에 있어야됨`"
   ]
  },
  {
   "cell_type": "code",
   "execution_count": 48,
   "metadata": {},
   "outputs": [
    {
     "name": "stdout",
     "output_type": "stream",
     "text": [
      "저는 28이고, Tom살 입니다.\n",
      "저는 Tom이고, 28살 입니다.\n"
     ]
    }
   ],
   "source": [
    "def intro(name, age):\n",
    "    print(f\"저는 {name}이고, {age}살 입니다.\")\n",
    "intro(28, \"Tom\") #위치를 다르게쓰면 다르게 나옴\n",
    "intro(age = 28, name = \"Tom\") #키워드인자를 사용하면 위치 상관x\n",
    "# intro(age = 28, \"Tom\")\n",
    "# 키워드 인자가 위치인자보다 앞에있어서 에러\n",
    "#키워드 인자는 위치인자보다 뒤에 있어야됨"
   ]
  },
  {
   "cell_type": "markdown",
   "metadata": {},
   "source": [
    "#### 임의의 인자 목록 *\n",
    "- 함수 정의 시 매개변수 앞에 *asterisk를 붙여 여러개의 인자를 tuple로 처리  \n",
    "- *args는 arguments의 약자로 관례적으로 자주 사용함. args말고 아무거나 써도 상관없음  \n",
    "- 인자가 전달되지 않으면 빈 튜플로 처리\n"
   ]
  },
  {
   "cell_type": "code",
   "execution_count": 1,
   "metadata": {},
   "outputs": [
    {
     "name": "stdout",
     "output_type": "stream",
     "text": [
      "(1, 2, 3)\n",
      "6\n"
     ]
    }
   ],
   "source": [
    "def add_many(*args):\n",
    "    print(args) # 여러인자를 tuple로 처리\n",
    "    result = sum(args)\n",
    "    print(result)\n",
    "\n",
    "add_many(1, 2, 3)"
   ]
  },
  {
   "cell_type": "markdown",
   "metadata": {},
   "source": [
    "#### 임의의 키워드 인자 목록  **\n",
    "- 정해지지 않은 개수의 키워드 인자를 처리  \n",
    "- 함수를 정의할때 매개변수 앞에 **를 붙이면, 여러 개의 인자를 dict으로 묶어서 처리  \n",
    "- 인자가 전달되지 않으면 빈 딕셔너리로 처리"
   ]
  },
  {
   "cell_type": "code",
   "execution_count": null,
   "metadata": {},
   "outputs": [
    {
     "name": "stdout",
     "output_type": "stream",
     "text": [
      "{'a': 1}\n",
      "{'name': 'Tom', 'age': 28}\n"
     ]
    }
   ],
   "source": [
    "def print_kwargs(**kwargs):\n",
    "    print(kwargs)\n",
    "\n",
    "print_kwargs(a = 1)\n",
    "print_kwargs(name = \"Tom\", age = 28)\n",
    "# key = value 형태의 딕셔너리로 저장"
   ]
  },
  {
   "cell_type": "markdown",
   "metadata": {},
   "source": [
    "#### 함수 매개변수 권장 작성순서  \n",
    "- 위치 -> 기본 -> 가변 -> 가변 키워드  \n",
    "`ex) def func(param1, param2, param3 = \"default\", *args, **kwargs):`"
   ]
  },
  {
   "cell_type": "code",
   "execution_count": null,
   "metadata": {},
   "outputs": [
    {
     "name": "stdout",
     "output_type": "stream",
     "text": [
      "1 2 3 (4, 5) {}\n",
      "1 2 3 () {'a': 5}\n"
     ]
    }
   ],
   "source": [
    "def func(pos1, pos2, pos3 = \"default\", *args, **kwargs):\n",
    "    print(pos1, pos2, pos3, args, kwargs)\n",
    "\n",
    "func(1, 2, 3, 4, 5) # 1, 2, 3, (4, 5), {}\n",
    "func(1, 2, 3, a = 5) # 1, 2, 3, (), {'a':5}\n"
   ]
  },
  {
   "cell_type": "markdown",
   "metadata": {},
   "source": [
    "#### 변수의 효력 범위    \n",
    "- global scope : 코드 어디에서든 참조할 수 있는 공간  \n",
    "- local scope : 함수가 만든 scope로 함수 내부에서만 참조 가능  \n",
    "- global variable : 전역변수  \n",
    "- local variable : 지역변수"
   ]
  },
  {
   "cell_type": "code",
   "execution_count": null,
   "metadata": {},
   "outputs": [
    {
     "name": "stdout",
     "output_type": "stream",
     "text": [
      "1\n"
     ]
    }
   ],
   "source": [
    "a = 1\n",
    "def vartest(a):\n",
    "    a = a + 1\n",
    "vartest(a)\n",
    "print(a) \n",
    "# 결과는 1이 나옴. 전역변수 a를 인자로 줬을 뿐이지\n",
    "# 함수 안에서 재정의된 a는 지역변수라서\n",
    "# 전역에서 print를 하면 전역변수 1이 그대로 출력됨"
   ]
  },
  {
   "cell_type": "markdown",
   "metadata": {},
   "source": [
    "#### 함수 안에서 함수 밖의 변수를 변경하는 방법\n",
    "1. return 사용(함수의 결과값을 전역변수에 대입)  \n",
    "2. global 사용(외부변수에 종속적인 함수는 좋지 않음)  \n",
    "    매개변수에 global키워드 선언 불가"
   ]
  },
  {
   "cell_type": "code",
   "execution_count": null,
   "metadata": {},
   "outputs": [
    {
     "name": "stdout",
     "output_type": "stream",
     "text": [
      "2\n"
     ]
    }
   ],
   "source": [
    "# return 사용\n",
    "a = 1\n",
    "def vartest(a):\n",
    "    a = a + 1\n",
    "    return a\n",
    "a = vartest(a)\n",
    "print(a) "
   ]
  },
  {
   "cell_type": "code",
   "execution_count": null,
   "metadata": {},
   "outputs": [
    {
     "name": "stdout",
     "output_type": "stream",
     "text": [
      "2\n"
     ]
    }
   ],
   "source": [
    "# global 사용\n",
    "a = 1\n",
    "def vartest():\n",
    "    global a\n",
    "    a = a + 1\n",
    "vartest()\n",
    "print(a) "
   ]
  },
  {
   "cell_type": "markdown",
   "metadata": {},
   "source": [
    "#### LEGB Rule  \n",
    "- 파이썬 이름 검색 규칙  \n",
    "- 아래 순서로 검색함\n",
    "1. Local scope : 지역범위  \n",
    "2. Enclosed scope : 지역범위 한 단계 위 범위  \n",
    "3. Global scope : 최상단에 위치한 범위  \n",
    "4. Built-in scope : 모든것을 담고있는 범위(정의하지 않고 사용할 수 있는 모든 것)  \n",
    "- 함수 내에서는 바깥 scope의 변수에 접근 가능하나 수정은 불가능  "
   ]
  },
  {
   "cell_type": "markdown",
   "metadata": {},
   "source": [
    "#### 내장함수\n",
    "- map(function, iterable)  \n",
    "    -순회 가능한 데이터구조의 모든 요소에 함수를 적용하고, 그 결과를 map object로 반환  \n",
    "- zip(*iterables)  \n",
    "    - 임의의 iterable을 쌍으로 모아 튜플을 원소로 하는 zip object를 반환(쌍이 안맞으면 누락)"
   ]
  },
  {
   "cell_type": "code",
   "execution_count": 63,
   "metadata": {},
   "outputs": [
    {
     "name": "stdout",
     "output_type": "stream",
     "text": [
      "<zip object at 0x000001CD83D7ED80>\n",
      "[(0, 'a'), (1, 'b'), (2, 'c')]\n"
     ]
    }
   ],
   "source": [
    "a = [0, 1, 2, 3]\n",
    "b = [\"a\", \"b\", \"c\"]\n",
    "print(zip(a, b)) #zip object반환\n",
    "print(list(zip(a, b))) # 쌍 안맞으면 버림"
   ]
  },
  {
   "cell_type": "markdown",
   "metadata": {},
   "source": [
    "#### lambda  \n",
    "- 이름이 없는 익명의 한줄짜리 함수. return이 없어도 결과값을 돌려줌    \n",
    "- lambda 매개변수 : 표현식  \n",
    "- lambda -> def로 바꾸는법  \n",
    "1. lambda를 def로 변경  \n",
    "2. 함수이름 아무거나 설정  \n",
    "3. lambda 뒤 argument를 괄호로 감싸기  \n",
    "4. : 뒤에 return 하고 나머지 똑같이 적기  "
   ]
  },
  {
   "cell_type": "code",
   "execution_count": 88,
   "metadata": {},
   "outputs": [
    {
     "name": "stdout",
     "output_type": "stream",
     "text": [
      "7\n",
      "[1, 4, 9, 16, 25]\n",
      "2x + 3y = 5\n",
      "None\n",
      "2x + 3y = 5\n",
      "None\n"
     ]
    }
   ],
   "source": [
    "add = lambda a, b : a + b\n",
    "print(add(3, 4))\n",
    "\n",
    "numbers = [1, 2, 3, 4, 5]\n",
    "aaa = list(map(lambda x: x**2, numbers))\n",
    "\n",
    "print(aaa)"
   ]
  },
  {
   "cell_type": "code",
   "execution_count": 94,
   "metadata": {},
   "outputs": [
    {
     "name": "stdout",
     "output_type": "stream",
     "text": [
      "[('apple', 5), ('banana', 7), ('grape', 10), ('peach', 3)]\n",
      "[('peach', 3), ('apple', 5), ('banana', 7), ('grape', 10)]\n"
     ]
    }
   ],
   "source": [
    "# 람다로 딕셔너리 정렬 방법 \n",
    "fruits = {\"apple\" : 5, \"grape\" : 10, \"banana\" : 7, \"peach\" : 3}\n",
    "\n",
    "# 딕셔너리 key 기준 정렬, reverse = True도 가능\n",
    "sorted1 = sorted(fruits.items(), key = lambda x:x[0])\n",
    "print(sorted1)\n",
    "# 딕셔너리 value기준 정렬, reverse = True도 가능\n",
    "sorted2 = sorted(fruits.items(), key = lambda x:x[1])\n",
    "print(sorted2)"
   ]
  },
  {
   "cell_type": "markdown",
   "metadata": {},
   "source": [
    "#### Packing & Unpacking  \n",
    "- Packing : 여러 개의 값을 하나의 변수에 묶어서 담음  \n",
    "- Unpacking : 패킹된 변수들을 분리해서 할당\n",
    "- \"*\"  \n",
    "    - 패킹 : 여러개의 인자를 하나의 튜플로 묶어줌  \n",
    "    - 언패킹 : iterable객체를 언패킹해서 함수의 인자로 전달  \n",
    "- \"**\"  \n",
    "    - 언패킹 : 딕셔너리의 키-값 쌍을 키워드 인자로 언패킹해서 함수의 인자로 전달"
   ]
  },
  {
   "cell_type": "code",
   "execution_count": 71,
   "metadata": {},
   "outputs": [
    {
     "name": "stdout",
     "output_type": "stream",
     "text": [
      "(1, 2, 3, 4, 5)\n"
     ]
    }
   ],
   "source": [
    "# 패킹 예시\n",
    "tuple1 = 1, 2, 3, 4, 5\n",
    "print(tuple1) # 변수에 담긴 값들이 알아서 튜플로 묶임\n",
    "\n",
    "# *asterisk 패킹\n",
    "# *는 남은 요소들을 리스트로 패킹해서 할당\n",
    "nums = [1, 2, 3, 4, 5]\n",
    "a, *b, c = nums\n",
    "print(a) # 1\n",
    "print(b) # [2, 3, 4]\n",
    "print(c) # 5\n"
   ]
  },
  {
   "cell_type": "code",
   "execution_count": 85,
   "metadata": {},
   "outputs": [
    {
     "name": "stdout",
     "output_type": "stream",
     "text": [
      "1 2 3\n",
      "[1, 2, 3, 4]\n",
      "1 2 3 4\n",
      "{'a': 1, 'b': 2, 'c': 3}\n",
      "a b c\n",
      "1 2 3\n"
     ]
    }
   ],
   "source": [
    "# 언패킹 예시\n",
    "tuple1 = 1, 2, 3, 4, 5 # 알아서 튜플로 패킹\n",
    "a, b, c, d, e = tuple1 # 언패킹해서 각 변수에 할당\n",
    "print(a, b, c)\n",
    "\n",
    "# *asterisk 언패킹\n",
    "arr = [1, 2, 3, 4]\n",
    "print(arr)\n",
    "print(*arr) # asterisk로 언패킹해서 출력 가능\n",
    "\n",
    "dict1 = {'a' : 1, 'b' : 2, 'c' : 3}\n",
    "print(dict1)\n",
    "print(*dict1) #dict에는 key만 출력\n",
    "\n",
    "# ** 딕셔너리 언패킹\n",
    "def func(a, b, c):\n",
    "    print(a, b, c)\n",
    "#func(dict1) 에러. 딕셔너리를 언패킹 안하고 넣어서\n",
    "func(**dict1) # 1 2 3\n"
   ]
  }
 ],
 "metadata": {
  "kernelspec": {
   "display_name": "Python 3",
   "language": "python",
   "name": "python3"
  },
  "language_info": {
   "codemirror_mode": {
    "name": "ipython",
    "version": 3
   },
   "file_extension": ".py",
   "mimetype": "text/x-python",
   "name": "python",
   "nbconvert_exporter": "python",
   "pygments_lexer": "ipython3",
   "version": "3.11.2"
  }
 },
 "nbformat": 4,
 "nbformat_minor": 2
}

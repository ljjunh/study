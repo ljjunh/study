{
 "cells": [
  {
   "cell_type": "markdown",
   "metadata": {},
   "source": [
    "#### Module  \n",
    "- 특정한 기능을 하는 변수와 함수가 하나의 .py파일로 묶인것  \n",
    "#### 모듈 가져오기  \n",
    "- 모듈 내 변수와 함수에 접근하려면 import가 필요함  \n",
    "- 내장 함수 help를 쓰면 모듈에 무엇이 들었는지 확인 가능  \n",
    "- 만약 서로 다른 모듈이 같은 이름의 함수를 제공할 경우 마지막에 import 된걸로 덮어짐 이래서 from절보단 import절을 쓰는게 나음  \n",
    "#### Package  \n",
    "- 관련된 모듈들을 하나의 디렉토리에 모아 놓은 것  \n",
    "#### 패키지 사용 목적  \n",
    "- 모듈들의 이름공간을 구분해서 충돌방지  \n",
    "- 모듈들을 효율적으로 관리하고 재사용할 수 있게 해줌"
   ]
  },
  {
   "cell_type": "markdown",
   "metadata": {},
   "source": [
    "#### Control Statement  \n",
    "- 코드의 실행 흐름을 제어하는 데 사용되는 구문  \n",
    "#### 조건문  \n",
    "- 조건식을 평가해서 조건인 True면 코드블록을 실행  \n",
    "if 표현식:  \n",
    "&ensp;&ensp;코드블록  \n",
    "elif 표현식:  \n",
    "&ensp;&ensp;코드블록  \n",
    "else:  \n",
    "&ensp;&ensp;코드블록\n"
   ]
  },
  {
   "cell_type": "markdown",
   "metadata": {},
   "source": [
    "#### 반복문  \n",
    "주어진 코드 블록을 여러 번 반복해서 실행하는 구문  \n",
    "1. for문 (반복 가능한 객체를 객체에 들어있는 순서대로 반복(작업량이 정해져 있음))  \n",
    "for 변수 in 반복가능한 객체:  \n",
    "&ensp;&ensp; 코드블록\n",
    "2. while문 (주어진 조건이 참인 동안 계속 반복)  \n",
    "while 조건식:  \n",
    "&ensp;&ensp;코드블록  \n",
    "#### 적절한 반복문 활용  \n",
    "1. for문  \n",
    "- 반복 횟수가 명확하게 정해져 있을 때 ex) list, tuple, str  \n",
    "2. while문  \n",
    "- 반복 횟수가 불병확하거나 조건에 따라 반복을 종료해야 할 때 ex) 사용자 입력받아서 특정 조건이 충족될때까지 반복할 때  \n",
    "#### 반복 제어  \n",
    "- break : 반복을 즉시 중지(반복문을 빠져나옴)  \n",
    "- continue : 다음 반복으로 건너뜀  \n",
    "#### for-else문  \n",
    "- for문이 break등으로 중간에 빠져나오지 않고 끝까지 실행됐을 경우 else문이 실행  \n",
    "#### List Comprehension  \n",
    "- 간결하고 효율적인 리스트 생성 방법  \n",
    "- [표현식 for 변수 in iterable객체]  \n",
    "- [표현식 for 변수 in iterable객체 if 조건식]  "
   ]
  },
  {
   "cell_type": "code",
   "execution_count": 2,
   "metadata": {},
   "outputs": [
    {
     "name": "stdout",
     "output_type": "stream",
     "text": [
      "[2, 4, 6, 8, 10]\n"
     ]
    }
   ],
   "source": [
    "# 일반적인 for문\n",
    "numbers = [1, 2, 3, 4, 5]\n",
    "result = []\n",
    "for num in numbers:\n",
    "    result.append(num * 2)\n",
    "print(result)"
   ]
  },
  {
   "cell_type": "code",
   "execution_count": 3,
   "metadata": {},
   "outputs": [
    {
     "name": "stdout",
     "output_type": "stream",
     "text": [
      "[2, 4, 6, 8, 10]\n"
     ]
    }
   ],
   "source": [
    "# 리스트컴프리헨션으로 훨씬 간단하게 코드작성 가능\n",
    "numbers = [1, 2, 3, 4, 5]\n",
    "result = [num * 2 for num in numbers]\n",
    "print(result)"
   ]
  },
  {
   "cell_type": "markdown",
   "metadata": {},
   "source": [
    "#### enumerate  \n",
    "- enumerate(iterable, start = 0)  \n",
    "- iterable 객체의 각 요소와 인덱스를 함께 반환하는 내장함수  "
   ]
  },
  {
   "cell_type": "code",
   "execution_count": 6,
   "metadata": {},
   "outputs": [
    {
     "name": "stdout",
     "output_type": "stream",
     "text": [
      "idx 1 : Tom\n",
      "idx 2 : Jin\n",
      "idx 3 : Sera\n"
     ]
    }
   ],
   "source": [
    "friends = [\"Tom\", \"Jin\", \"Sera\"]\n",
    "for idx, friend in enumerate(friends, 1):\n",
    "    #start를 1부터 지정해서 idx1부터 나옴\n",
    "    print(f\"idx {idx} : {friend}\")\n"
   ]
  }
 ],
 "metadata": {
  "kernelspec": {
   "display_name": "Python 3",
   "language": "python",
   "name": "python3"
  },
  "language_info": {
   "codemirror_mode": {
    "name": "ipython",
    "version": 3
   },
   "file_extension": ".py",
   "mimetype": "text/x-python",
   "name": "python",
   "nbconvert_exporter": "python",
   "pygments_lexer": "ipython3",
   "version": "3.11.2"
  }
 },
 "nbformat": 4,
 "nbformat_minor": 2
}
